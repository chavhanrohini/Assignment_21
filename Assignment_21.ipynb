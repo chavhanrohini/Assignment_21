{
 "cells": [
  {
   "cell_type": "markdown",
   "id": "508420a4",
   "metadata": {},
   "source": [
    "## 1. Add the current date to the text file today.txt as a string"
   ]
  },
  {
   "cell_type": "code",
   "execution_count": 1,
   "id": "93263f70",
   "metadata": {},
   "outputs": [],
   "source": [
    "from datetime import datetime\n",
    "\n",
    "current_date = datetime.now().strftime(\"%Y-%m-%d\")\n",
    "with open(\"today.txt\", \"w\") as file:\n",
    "    file.write(current_date)\n"
   ]
  },
  {
   "cell_type": "code",
   "execution_count": 5,
   "id": "c6dc12e6",
   "metadata": {},
   "outputs": [
    {
     "data": {
      "text/plain": [
       "'2023-10-02'"
      ]
     },
     "execution_count": 5,
     "metadata": {},
     "output_type": "execute_result"
    }
   ],
   "source": [
    "current_date"
   ]
  },
  {
   "cell_type": "markdown",
   "id": "6ac19633",
   "metadata": {},
   "source": [
    "## 2. Read the text file today.txt into the string today_string:"
   ]
  },
  {
   "cell_type": "code",
   "execution_count": 2,
   "id": "e9dfa3e2",
   "metadata": {},
   "outputs": [],
   "source": [
    "with open(\"today.txt\", \"r\") as file:\n",
    "    today_string = file.read()\n"
   ]
  },
  {
   "cell_type": "code",
   "execution_count": 3,
   "id": "1da3e4b3",
   "metadata": {},
   "outputs": [
    {
     "data": {
      "text/plain": [
       "'2023-10-02'"
      ]
     },
     "execution_count": 3,
     "metadata": {},
     "output_type": "execute_result"
    }
   ],
   "source": [
    "today_string"
   ]
  },
  {
   "cell_type": "markdown",
   "id": "0d511931",
   "metadata": {},
   "source": [
    "## 3. Parse the date from today_string:"
   ]
  },
  {
   "cell_type": "code",
   "execution_count": 6,
   "id": "1b81b7e3",
   "metadata": {},
   "outputs": [],
   "source": [
    "from datetime import datetime\n",
    "\n",
    "parsed_date = datetime.strptime(today_string, \"%Y-%m-%d\")\n"
   ]
  },
  {
   "cell_type": "code",
   "execution_count": 7,
   "id": "f8721a4f",
   "metadata": {},
   "outputs": [
    {
     "data": {
      "text/plain": [
       "datetime.datetime(2023, 10, 2, 0, 0)"
      ]
     },
     "execution_count": 7,
     "metadata": {},
     "output_type": "execute_result"
    }
   ],
   "source": [
    "parsed_date"
   ]
  },
  {
   "cell_type": "code",
   "execution_count": 9,
   "id": "2c593092",
   "metadata": {},
   "outputs": [
    {
     "data": {
      "text/plain": [
       "str"
      ]
     },
     "execution_count": 9,
     "metadata": {},
     "output_type": "execute_result"
    }
   ],
   "source": [
    "type(today_string)"
   ]
  },
  {
   "cell_type": "code",
   "execution_count": 10,
   "id": "959ea53e",
   "metadata": {},
   "outputs": [
    {
     "data": {
      "text/plain": [
       "datetime.datetime"
      ]
     },
     "execution_count": 10,
     "metadata": {},
     "output_type": "execute_result"
    }
   ],
   "source": [
    "type(parsed_date)"
   ]
  },
  {
   "cell_type": "markdown",
   "id": "4e7a7280",
   "metadata": {},
   "source": [
    "## 4. List the files in your current directory:"
   ]
  },
  {
   "cell_type": "code",
   "execution_count": 11,
   "id": "473353bd",
   "metadata": {},
   "outputs": [
    {
     "name": "stdout",
     "output_type": "stream",
     "text": [
      "['.conda', '.condarc', '.continuum', '.ipynb_checkpoints', '.ipython', '.jupyter', '.vscode', '001_FSDS_Sep_2022_batch (1).xlsx', '001_FSDS_Sep_2022_batch (2).xlsx', '001_FSDS_Sep_2022_batch (3).xlsx', '001_FSDS_Sep_2022_batch (4).xlsx', '001_FSDS_Sep_2022_batch (5).xlsx', '001_FSDS_Sep_2022_batch (6).xlsx', '001_FSDS_Sep_2022_batch.xlsx', '11th Dec Live Class(Class and Object class 1).ipynb', '13. OOPS_latest.ipynb', '13th Nov(function continued (4)).ipynb', '18th Feb FSDSbootcamp2.0(1- Statistics, Measure Of Central,TendencyDipersion).pdf', '19th Feb FSDSbootcamp2.0(2- Stats,Pdf,Pmf,Normal Distribution).pdf', '20th dec python program discussion.ipynb', '21st python program discussion.ipynb', '23rd dec.ipynb', '25th Feb FSDSbootcamp2.0(3- Different types of distribution).pdf', '26th class solutions.ipynb', '3D Objects', '4th March FSDSbootcamp2.0(4-Ztesttest).pdf', '4th March FSDSbootcamp2.0(statistics-interview-questions) - Copy.pdf', '4th March FSDSbootcamp2.0(statistics-interview-questions).pdf', '5th March FSDSbootcamp2.0(5-Chisquareftest).pdf', 'addresses.csv', 'airline.xls', 'airline1.xls', 'anaconda3', 'AppData', 'Application Data', 'assignment 11-12-2022.txt', 'Assignment_1.docx', 'Assignment_10.ipynb', 'Assignment_11.ipynb', 'Assignment_12.ipynb', 'Assignment_13.ipynb', 'Assignment_14.ipynb', 'Assignment_15.ipynb', 'Assignment_16.ipynb', 'Assignment_17.ipynb', 'Assignment_18.ipynb', 'Assignment_19.ipynb', 'Assignment_20.ipynb', 'Assignment_3.ipynb', 'Assignment_4.ipynb', 'Assignment_5.ipynb', 'Assignment_6.ipynb', 'Assignment_7.ipynb', 'Assignment_8.ipynb', 'Assignment_9.ipynb', 'binary_data.bin', 'books.csv', 'books.db', 'BullseyeCoverageError.txt', 'car.data', 'class-17th-notes-main.ipynb', 'class-18th-inheritence.ipynb', 'Contacts', 'contacts.csv', 'Cookies', 'demo_002.ipynb', 'demo_003.ipynb', 'demo_004.ipynb', 'Desktop', 'destination_folder_path', 'Documents', 'Downloads', 'drive-download-20230731T080639Z-001', 'employee.py', 'errors.ipynb', 'exception handling 01.ipynb', 'facebook.txt', 'Favorites', 'file handling.ipynb', 'FOR LOOP.ipynb', 'function 30th oct practice FSDS_2.0.ipynb', 'function continued (2).ipynb', 'Function.ipynb', 'function_lecture-3.ipynb', 'glass.data', 'google.txt', 'google1.txt', 'holiday_schedules.csv', 'IntelGraphicsProfiles', 'iterator and generator.ipynb', 'lecture1.ipynb', 'Links', 'Local Settings', 'locations.csv', 'LUSID Excel - Manage Orders.xlsx', 'mail_addresses.csv', 'Microsoft', 'mongodb_oops-main', 'Music', 'My Documents', 'NetHood', 'new question.ipynb', 'new_file.txt', 'NTUSER.DAT', 'ntuser.dat.LOG1', 'ntuser.dat.LOG2', 'NTUSER.DAT{ce83ab75-daef-11ed-9a76-c03eba36edcc}.TM.blf', 'NTUSER.DAT{ce83ab75-daef-11ed-9a76-c03eba36edcc}.TMContainer00000000000000000001.regtrans-ms', 'NTUSER.DAT{ce83ab75-daef-11ed-9a76-c03eba36edcc}.TMContainer00000000000000000002.regtrans-ms', 'ntuser.ini', 'num-main', 'OneDrive', 'oops-day-2-main', 'organizations.csv', 'output.txt', 'pandas-main', 'part 1 solutions.ipynb', 'part 2 solutions.ipynb', 'phones.csv', 'Pictures', 'players.csv', 'PrintHood', 'programs.csv', 'PycharmProjects', 'Python Decorators.ipynb', 'Python if else condition basics -Logical operator -Equality operator -Comparison operator.ipynb', 'Python practice 08 08 2023.ipynb', 'questions.ipynb', 'Recent', 'regular_schedules.csv', 'rohini.log', 'rtest.txt', 'samarth lonkar - Shortcut.lnk', 'Saved Games', 'saveTofile.py', 'scrapper-main', 'scrapper1-main', 'Searches', 'SendTo', 'services.csv', 'sql', 'SQL basic .ipynb', 'sql day 2 .ipynb', 'sql part 1 12-08-2023.ipynb', 'sql-and-mongo-main', 'sql-main', 'Start Menu', 'Statistics-With-Python-TheCompleteGuide-main', 'task questions part 2.ipynb', 'task_oops_sol-main', 'taxonomy.csv', 'Templates', 'test (1).py', 'test.py', 'test.txt', 'test1.csv', 'test1.log', 'test1.py', 'test1.txt', 'test2.log', 'today.txt', 'txt', 'Untitled.ipynb', 'untitled.txt', 'Untitled1.ipynb', 'Untitled10.ipynb', 'Untitled11.ipynb', 'Untitled12.ipynb', 'Untitled13.ipynb', 'Untitled14.ipynb', 'Untitled15.ipynb', 'Untitled16.ipynb', 'Untitled17.ipynb', 'Untitled18.ipynb', 'Untitled19.ipynb', 'Untitled2.ipynb', 'Untitled20.ipynb', 'Untitled21.ipynb', 'Untitled3.ipynb', 'Untitled4.ipynb', 'Untitled5.ipynb', 'Untitled6.ipynb', 'Untitled7.ipynb', 'Untitled8.ipynb', 'Untitled9.ipynb', 'Variable User input  Multi assignment of variables  type casting Memory block Operators String methods.ipynb', 'Videos']\n"
     ]
    }
   ],
   "source": [
    "import os\n",
    "\n",
    "current_directory = os.listdir(\".\")\n",
    "print(current_directory)\n"
   ]
  },
  {
   "cell_type": "code",
   "execution_count": 16,
   "id": "41f0b6fb",
   "metadata": {},
   "outputs": [
    {
     "name": "stdout",
     "output_type": "stream",
     "text": [
      " Volume in drive C is OS\n",
      " Volume Serial Number is 62EE-5AD3\n",
      "\n",
      " Directory of C:\\Users\\Dell\n",
      "\n",
      "02-10-2023  12:03    <DIR>          .\n",
      "14-04-2023  23:43    <DIR>          ..\n",
      "08-07-2023  14:14    <DIR>          .conda\n",
      "14-05-2022  15:14                25 .condarc\n",
      "14-05-2022  15:13    <DIR>          .continuum\n",
      "02-10-2023  11:53    <DIR>          .ipynb_checkpoints\n",
      "14-05-2022  15:15    <DIR>          .ipython\n",
      "29-09-2022  18:38    <DIR>          .jupyter\n",
      "07-07-2023  13:29    <DIR>          .vscode\n",
      "28-07-2023  10:15            89,231 001_FSDS_Sep_2022_batch (1).xlsx\n",
      "28-07-2023  10:18            89,231 001_FSDS_Sep_2022_batch (2).xlsx\n",
      "28-07-2023  10:19            89,231 001_FSDS_Sep_2022_batch (3).xlsx\n",
      "28-07-2023  10:19            89,231 001_FSDS_Sep_2022_batch (4).xlsx\n",
      "28-07-2023  10:22            89,231 001_FSDS_Sep_2022_batch (5).xlsx\n",
      "28-07-2023  10:23            89,231 001_FSDS_Sep_2022_batch (6).xlsx\n",
      "28-07-2023  09:27            89,231 001_FSDS_Sep_2022_batch.xlsx\n",
      "28-07-2023  10:55         1,361,649 11th Dec Live Class(Class and Object class 1).ipynb\n",
      "06-04-2023  15:55         1,083,232 13. OOPS_latest.ipynb\n",
      "08-08-2023  13:48            37,865 13th Nov(function continued (4)).ipynb\n",
      "31-07-2023  14:07         7,204,445 18th Feb FSDSbootcamp2.0(1- Statistics, Measure Of Central,TendencyDipersion).pdf\n",
      "31-07-2023  14:08         7,331,769 19th Feb FSDSbootcamp2.0(2- Stats,Pdf,Pmf,Normal Distribution).pdf\n",
      "10-10-2022  20:42           829,449 20th dec python program discussion.ipynb\n",
      "09-08-2023  18:43            11,554 21st python program discussion.ipynb\n",
      "15-12-2022  23:14            17,546 23rd dec.ipynb\n",
      "31-07-2023  14:08         6,042,353 25th Feb FSDSbootcamp2.0(3- Different types of distribution).pdf\n",
      "28-07-2023  10:32            23,833 26th class solutions.ipynb\n",
      "18-10-2020  18:05    <DIR>          3D Objects\n",
      "31-07-2023  14:59         5,126,215 4th March FSDSbootcamp2.0(4-Ztesttest).pdf\n",
      "31-07-2023  15:00           114,937 4th March FSDSbootcamp2.0(statistics-interview-questions) - Copy.pdf\n",
      "31-07-2023  15:00           114,937 4th March FSDSbootcamp2.0(statistics-interview-questions).pdf\n",
      "31-07-2023  15:00         4,580,039 5th March FSDSbootcamp2.0(5-Chisquareftest).pdf\n",
      "20-06-2023  17:50             1,173 addresses.csv\n",
      "20-06-2023  20:13            16,384 airline.xls\n",
      "20-06-2023  22:34            32,256 airline1.xls\n",
      "14-05-2022  15:12    <DIR>          anaconda3\n",
      "28-07-2023  10:56             5,529 assignment 11-12-2022.txt\n",
      "22-09-2023  14:20            24,203 Assignment_1.docx\n",
      "27-09-2023  15:17             5,354 Assignment_10.ipynb\n",
      "27-09-2023  15:32             6,784 Assignment_11.ipynb\n",
      "29-09-2023  17:21             5,970 Assignment_12.ipynb\n",
      "29-09-2023  17:31             4,164 Assignment_13.ipynb\n",
      "29-09-2023  20:48             6,609 Assignment_14.ipynb\n",
      "29-09-2023  21:01             5,148 Assignment_15.ipynb\n",
      "30-09-2023  18:24             9,952 Assignment_16.ipynb\n",
      "30-09-2023  18:51             9,331 Assignment_17.ipynb\n",
      "30-09-2023  19:51             4,956 Assignment_18.ipynb\n",
      "30-09-2023  20:05            10,087 Assignment_19.ipynb\n",
      "02-10-2023  00:12             6,019 Assignment_20.ipynb\n",
      "27-09-2023  13:46            16,191 Assignment_3.ipynb\n",
      "27-09-2023  13:29            23,799 Assignment_4.ipynb\n",
      "27-09-2023  12:59             8,635 Assignment_5.ipynb\n",
      "27-09-2023  12:51             7,615 Assignment_6.ipynb\n",
      "26-09-2023  21:33            11,894 Assignment_7.ipynb\n",
      "26-09-2023  21:21             5,121 Assignment_8.ipynb\n",
      "26-09-2023  20:15             6,453 Assignment_9.ipynb\n",
      "09-08-2023  11:51                 5 binary_data.bin\n",
      "02-10-2023  00:02               207 books.csv\n",
      "02-10-2023  00:09             8,192 books.db\n",
      "21-08-2021  17:41               151 BullseyeCoverageError.txt\n",
      "13-08-2023  14:47            51,867 car.data\n",
      "28-07-2023  11:01            27,823 class-17th-notes-main.ipynb\n",
      "31-07-2023  13:01            22,154 class-18th-inheritence.ipynb\n",
      "15-04-2023  20:10    <DIR>          Contacts\n",
      "20-06-2023  17:50             1,589 contacts.csv\n",
      "28-07-2023  09:35            70,215 demo_002.ipynb\n",
      "28-07-2023  10:16            66,963 demo_003.ipynb\n",
      "28-07-2023  10:18            90,154 demo_004.ipynb\n",
      "22-09-2023  14:22    <DIR>          Desktop\n",
      "27-09-2023  15:16    <DIR>          destination_folder_path\n",
      "15-04-2023  20:10    <DIR>          Documents\n",
      "02-10-2023  11:45    <DIR>          Downloads\n",
      "31-07-2023  13:50    <DIR>          drive-download-20230731T080639Z-001\n",
      "28-07-2023  10:53               762 employee.py\n",
      "28-07-2023  10:51             6,826 errors.ipynb\n",
      "28-07-2023  10:49            31,132 exception handling 01.ipynb\n",
      "09-08-2023  11:39             2,927 facebook.txt\n",
      "15-04-2023  20:10    <DIR>          Favorites\n",
      "28-07-2023  10:51            10,915 file handling.ipynb\n",
      "09-08-2023  12:54             6,790 FOR LOOP.ipynb\n",
      "28-07-2023  10:25            14,305 function 30th oct practice FSDS_2.0.ipynb\n",
      "28-07-2023  10:28            50,009 function continued (2).ipynb\n",
      "28-07-2023  10:24            21,534 Function.ipynb\n",
      "25-09-2022  16:41             1,080 function_lecture-3.ipynb\n",
      "12-08-2023  15:18            11,903 glass.data\n",
      "09-08-2023  11:39                 0 google.txt\n",
      "15-03-2023  18:38             2,926 google1.txt\n",
      "20-06-2023  17:50               277 holiday_schedules.csv\n",
      "28-07-2023  10:51            23,433 iterator and generator.ipynb\n",
      "26-08-2022  17:45            20,996 lecture1.ipynb\n",
      "15-04-2023  20:10    <DIR>          Links\n",
      "20-06-2023  17:50            18,015 locations.csv\n",
      "20-06-2023  20:07            84,319 LUSID Excel - Manage Orders.xlsx\n",
      "20-06-2023  17:50             1,610 mail_addresses.csv\n",
      "13-09-2023  02:20    <DIR>          Microsoft\n",
      "31-07-2023  13:11    <DIR>          mongodb_oops-main\n",
      "15-04-2023  20:10    <DIR>          Music\n",
      "28-07-2023  10:32           119,517 new question.ipynb\n",
      "09-08-2023  11:51                42 new_file.txt\n",
      "31-07-2023  13:25    <DIR>          num-main\n",
      "02-10-2023  11:43    <DIR>          OneDrive\n",
      "31-07-2023  13:13    <DIR>          oops-day-2-main\n",
      "20-06-2023  17:50             2,281 organizations.csv\n",
      "09-08-2023  11:59               135 output.txt\n",
      "31-07-2023  13:46    <DIR>          pandas-main\n",
      "28-07-2023  10:32            43,647 part 1 solutions.ipynb\n",
      "28-07-2023  10:32           113,548 part 2 solutions.ipynb\n",
      "20-06-2023  17:50             2,092 phones.csv\n",
      "15-04-2023  20:10    <DIR>          Pictures\n",
      "26-06-2023  12:00            81,549 players.csv\n",
      "20-06-2023  17:50                60 programs.csv\n",
      "29-03-2023  08:29    <DIR>          PycharmProjects\n",
      "28-07-2023  10:32            51,862 Python Decorators.ipynb\n",
      "15-09-2023  21:50            10,488 Python if else condition basics -Logical operator -Equality operator -Comparison operator.ipynb\n",
      "09-08-2023  18:43         6,081,405 Python practice 08 08 2023.ipynb\n",
      "28-07-2023  10:36            23,241 questions.ipynb\n",
      "20-06-2023  17:50               350 regular_schedules.csv\n",
      "09-08-2023  12:16                 0 rohini.log\n",
      "09-08-2023  11:30                59 rtest.txt\n",
      "28-07-2023  10:12               860 samarth lonkar - Shortcut.lnk\n",
      "15-04-2023  20:10    <DIR>          Saved Games\n",
      "28-07-2023  10:53             1,455 saveTofile.py\n",
      "31-07-2023  14:06    <DIR>          scrapper1-main\n",
      "31-07-2023  13:52    <DIR>          scrapper-main\n",
      "15-04-2023  20:10    <DIR>          Searches\n",
      "20-06-2023  17:50            19,128 services.csv\n",
      "31-07-2023  13:03             1,703 sql\n",
      "12-08-2023  18:25            80,354 SQL basic .ipynb\n",
      "12-08-2023  18:33           358,224 sql day 2 .ipynb\n",
      "13-08-2023  14:41           266,900 sql part 1 12-08-2023.ipynb\n",
      "26-09-2023  15:52    <DIR>          sql-and-mongo-main\n",
      "31-07-2023  13:05    <DIR>          sql-main\n",
      "31-07-2023  14:56    <DIR>          Statistics-With-Python-TheCompleteGuide-main\n",
      "28-07-2023  10:32             8,252 task questions part 2.ipynb\n",
      "31-07-2023  13:18    <DIR>          task_oops_sol-main\n",
      "20-06-2023  17:50            14,618 taxonomy.csv\n",
      "31-07-2023  13:03               196 test (1).py\n",
      "31-07-2023  13:03               196 test.py\n",
      "01-10-2023  23:54                44 test.txt\n",
      "26-06-2023  12:00               476 test1.csv\n",
      "09-08-2023  12:11             3,482 test1.log\n",
      "25-03-2023  16:04                 0 test1.py\n",
      "15-03-2023  16:53                56 test1.txt\n",
      "25-03-2023  13:22               896 test2.log\n",
      "02-10-2023  11:53                10 today.txt\n",
      "28-07-2023  10:42             1,140 txt\n",
      "29-09-2022  18:35                72 Untitled.ipynb\n",
      "14-05-2022  15:14                 0 untitled.txt\n",
      "29-09-2022  20:16             1,173 Untitled1.ipynb\n",
      "11-03-2023  18:31           328,423 Untitled10.ipynb\n",
      "09-08-2023  11:40            19,269 Untitled11.ipynb\n",
      "15-03-2023  19:55             6,621 Untitled12.ipynb\n",
      "09-08-2023  12:12             5,077 Untitled13.ipynb\n",
      "25-03-2023  17:07             8,413 Untitled14.ipynb\n",
      "06-04-2023  15:52               589 Untitled15.ipynb\n",
      "11-04-2023  16:52            10,486 Untitled16.ipynb\n",
      "26-06-2023  12:07           214,419 Untitled17.ipynb\n",
      "20-06-2023  19:54                72 Untitled18.ipynb\n",
      "21-06-2023  17:43                72 Untitled19.ipynb\n",
      "24-05-2022  20:11             2,240 Untitled2.ipynb\n",
      "26-06-2023  12:07                72 Untitled20.ipynb\n",
      "02-10-2023  12:03             8,511 Untitled21.ipynb\n",
      "17-05-2022  19:26             4,620 Untitled3.ipynb\n",
      "19-05-2022  10:04             2,766 Untitled4.ipynb\n",
      "19-05-2022  11:37             3,272 Untitled5.ipynb\n",
      "24-05-2022  17:06            12,598 Untitled6.ipynb\n",
      "31-05-2022  19:07            27,452 Untitled7.ipynb\n",
      "09-03-2023  15:11             5,901 Untitled8.ipynb\n",
      "11-03-2023  15:32             1,317 Untitled9.ipynb\n",
      "15-09-2023  16:29            18,195 Variable User input  Multi assignment of variables  type casting Memory block Operators String methods.ipynb\n",
      "15-04-2023  20:10    <DIR>          Videos\n",
      "             134 File(s)     43,357,067 bytes\n",
      "              36 Dir(s)  86,897,893,376 bytes free\n"
     ]
    }
   ],
   "source": [
    "%ls"
   ]
  },
  {
   "cell_type": "markdown",
   "id": "8a09c76b",
   "metadata": {},
   "source": [
    "## 5. Create a list of all the files in your parent directory (minimum five files should be available):"
   ]
  },
  {
   "cell_type": "code",
   "execution_count": 17,
   "id": "6776c818",
   "metadata": {},
   "outputs": [
    {
     "name": "stdout",
     "output_type": "stream",
     "text": [
      "['All Users', 'Default', 'Default User', 'Dell', 'desktop.ini']\n"
     ]
    }
   ],
   "source": [
    "parent_directory = os.path.dirname(os.getcwd())\n",
    "parent_files = os.listdir(parent_directory)\n",
    "print(parent_files[:5])  # Display the first five files in the parent directory\n"
   ]
  },
  {
   "cell_type": "code",
   "execution_count": 19,
   "id": "73a3acc7",
   "metadata": {},
   "outputs": [
    {
     "data": {
      "text/plain": [
       "'C:\\\\Users'"
      ]
     },
     "execution_count": 19,
     "metadata": {},
     "output_type": "execute_result"
    }
   ],
   "source": [
    "parent_directory"
   ]
  },
  {
   "cell_type": "code",
   "execution_count": 20,
   "id": "5b682256",
   "metadata": {},
   "outputs": [
    {
     "data": {
      "text/plain": [
       "'C:\\\\Users\\\\Dell'"
      ]
     },
     "execution_count": 20,
     "metadata": {},
     "output_type": "execute_result"
    }
   ],
   "source": [
    "(os.getcwd())"
   ]
  },
  {
   "cell_type": "markdown",
   "id": "156c482f",
   "metadata": {},
   "source": [
    "## 6.Use multiprocessing to create three separate processes:"
   ]
  },
  {
   "cell_type": "code",
   "execution_count": 22,
   "id": "7cec0fb1",
   "metadata": {},
   "outputs": [
    {
     "name": "stdout",
     "output_type": "stream",
     "text": [
      "All processes have finished.\n"
     ]
    }
   ],
   "source": [
    "import multiprocessing\n",
    "\n",
    "# Function to print a message from each process\n",
    "def print_message(process_name):\n",
    "    print(f\"Hello from {process_name}!\")\n",
    "\n",
    "if __name__ == \"__main__\":\n",
    "    # Create three separate processes\n",
    "    process1 = multiprocessing.Process(target=print_message, args=(\"Process 1\",))\n",
    "    process2 = multiprocessing.Process(target=print_message, args=(\"Process 2\",))\n",
    "    process3 = multiprocessing.Process(target=print_message, args=(\"Process 3\",))\n",
    "\n",
    "    # Start the processes\n",
    "    process1.start()\n",
    "    process2.start()\n",
    "    process3.start()\n",
    "\n",
    "    # Wait for all processes to complete\n",
    "    process1.join()\n",
    "    process2.join()\n",
    "    process3.join()\n",
    "\n",
    "    print(\"All processes have finished.\")\n"
   ]
  },
  {
   "cell_type": "markdown",
   "id": "02bf2bf7",
   "metadata": {},
   "source": [
    "## 7. Create a date object of your day of birth:"
   ]
  },
  {
   "cell_type": "code",
   "execution_count": 23,
   "id": "40659af2",
   "metadata": {},
   "outputs": [
    {
     "name": "stdout",
     "output_type": "stream",
     "text": [
      "1995-08-30\n"
     ]
    }
   ],
   "source": [
    "from datetime import date\n",
    "\n",
    "birth_date = date(1995, 8, 30)\n",
    "print(birth_date)\n"
   ]
  },
  {
   "cell_type": "code",
   "execution_count": 24,
   "id": "e8df5531",
   "metadata": {},
   "outputs": [
    {
     "data": {
      "text/plain": [
       "datetime.date(1995, 8, 30)"
      ]
     },
     "execution_count": 24,
     "metadata": {},
     "output_type": "execute_result"
    }
   ],
   "source": [
    "birth_date"
   ]
  },
  {
   "cell_type": "markdown",
   "id": "b588fb30",
   "metadata": {},
   "source": [
    "## 8. What day of the week was your day of birth?"
   ]
  },
  {
   "cell_type": "code",
   "execution_count": 26,
   "id": "b6a29ca4",
   "metadata": {},
   "outputs": [
    {
     "name": "stdout",
     "output_type": "stream",
     "text": [
      "Your birthdate (1995-08-30) falls on a Wednesday.\n"
     ]
    }
   ],
   "source": [
    "from datetime import date\n",
    "\n",
    "birth_date = date(1995, 8, 30)\n",
    "day_of_week = birth_date.strftime(\"%A\")\n",
    "print(f\"Your birthdate ({birth_date.strftime('%Y-%m-%d')}) falls on a {day_of_week}.\")\n"
   ]
  },
  {
   "cell_type": "code",
   "execution_count": 27,
   "id": "cba8d2ba",
   "metadata": {},
   "outputs": [
    {
     "data": {
      "text/plain": [
       "'Wednesday'"
      ]
     },
     "execution_count": 27,
     "metadata": {},
     "output_type": "execute_result"
    }
   ],
   "source": [
    "day_of_week"
   ]
  },
  {
   "cell_type": "markdown",
   "id": "e7f9edbe",
   "metadata": {},
   "source": [
    "## 9. When will you be (or when were you) 10,000 days old?"
   ]
  },
  {
   "cell_type": "code",
   "execution_count": 29,
   "id": "9ce2983f",
   "metadata": {},
   "outputs": [
    {
     "name": "stdout",
     "output_type": "stream",
     "text": [
      "You will be (or were) 10,000 days old on 2023-01-15.\n"
     ]
    }
   ],
   "source": [
    "from datetime import date, timedelta\n",
    "\n",
    "# Your birthdate\n",
    "birth_date = date(1995, 8, 30)\n",
    "\n",
    "# Calculate the date when you will be (or were) 10,000 days old\n",
    "ten_thousand_days_old = birth_date + timedelta(days=10000)\n",
    "\n",
    "print(f\"You will be (or were) 10,000 days old on {ten_thousand_days_old.strftime('%Y-%m-%d')}.\")\n"
   ]
  },
  {
   "cell_type": "code",
   "execution_count": 30,
   "id": "ffce2675",
   "metadata": {},
   "outputs": [
    {
     "data": {
      "text/plain": [
       "datetime.date(2023, 1, 15)"
      ]
     },
     "execution_count": 30,
     "metadata": {},
     "output_type": "execute_result"
    }
   ],
   "source": [
    "ten_thousand_days_old"
   ]
  },
  {
   "cell_type": "code",
   "execution_count": null,
   "id": "0e775690",
   "metadata": {},
   "outputs": [],
   "source": []
  },
  {
   "cell_type": "code",
   "execution_count": null,
   "id": "87241af7",
   "metadata": {},
   "outputs": [],
   "source": []
  }
 ],
 "metadata": {
  "kernelspec": {
   "display_name": "Python 3 (ipykernel)",
   "language": "python",
   "name": "python3"
  },
  "language_info": {
   "codemirror_mode": {
    "name": "ipython",
    "version": 3
   },
   "file_extension": ".py",
   "mimetype": "text/x-python",
   "name": "python",
   "nbconvert_exporter": "python",
   "pygments_lexer": "ipython3",
   "version": "3.9.12"
  }
 },
 "nbformat": 4,
 "nbformat_minor": 5
}
